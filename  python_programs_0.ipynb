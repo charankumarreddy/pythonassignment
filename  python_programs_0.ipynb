{
 "cells": [
  {
   "cell_type": "code",
   "execution_count": 8,
   "metadata": {},
   "outputs": [
    {
     "name": "stdout",
     "output_type": "stream",
     "text": [
      "\n",
      " Addition of two numbers is 30\n",
      "\n",
      " Subtraction of two numbers is 10\n",
      "\n",
      " Multiplication of two numbers is 200\n",
      "\n",
      " Division of two numbers is 2.0\n"
     ]
    }
   ],
   "source": [
    "a, b = 20, 10\n",
    "c = a + b\n",
    "print(\"\\n Addition of two numbers is\", c )\n",
    "c = a - b\n",
    "print(\"\\n Subtraction of two numbers is\", c )\n",
    "c = a * b \n",
    "print(\"\\n Multiplication of two numbers is\", c)\n",
    "c = a / b \n",
    "print(\"\\n Division of two numbers is\", c)"
   ]
  },
  {
   "cell_type": "code",
   "execution_count": 13,
   "metadata": {},
   "outputs": [
    {
     "name": "stdout",
     "output_type": "stream",
     "text": [
      "Biggest of three numbers is 30\n"
     ]
    }
   ],
   "source": [
    "a, b, c = 20, 10, 30\n",
    "if a > b and a > c:\n",
    "    print(\"Biggest of three numbers is\", a)\n",
    "if b > a and b> c:\n",
    "    print(\"Biggest of three numbers is\", b)\n",
    "if c > a and c > b:\n",
    "    print(\"Biggest of three numbers is\", c)\n"
   ]
  },
  {
   "cell_type": "code",
   "execution_count": 17,
   "metadata": {},
   "outputs": [
    {
     "name": "stdout",
     "output_type": "stream",
     "text": [
      "Given number is 10 even\n"
     ]
    }
   ],
   "source": [
    "a = 10\n",
    "b = a % 2\n",
    "if b == 0 :\n",
    "    print(\"Given number is\", a, \"even\")\n",
    "else:\n",
    "    print(\"Given number is\", a, \"odd\")\n"
   ]
  },
  {
   "cell_type": "code",
   "execution_count": 26,
   "metadata": {},
   "outputs": [
    {
     "name": "stdout",
     "output_type": "stream",
     "text": [
      "The given number 7 is prime\n",
      "The given number 7 is prime\n",
      "The given number 7 is prime\n",
      "The given number 7 is prime\n"
     ]
    }
   ],
   "source": [
    "a = 7\n",
    "for i in range(2, a-1):\n",
    "    if a % i == 0 :\n",
    "        print(\"The given number \", a, \"is not prime\")\n",
    "    else:\n",
    "        print(\"The given number\", a, \"is prime\")\n"
   ]
  },
  {
   "cell_type": "code",
   "execution_count": 34,
   "metadata": {},
   "outputs": [
    {
     "name": "stdout",
     "output_type": "stream",
     "text": [
      "Enter arg1 number:-12\n",
      "Enter arg2 number:-23\n",
      "Enter arg3 number:-34\n",
      "First number is 12\n",
      "Second number is 23\n",
      "Third number is 34\n",
      "The biggest of three numbers is 34\n"
     ]
    }
   ],
   "source": [
    "import sys\n",
    "arg1= int(input(\"Enter arg1 number:-\" ))\n",
    "arg2= int(input(\"Enter arg2 number:-\" ))\n",
    "arg3=int(input(\"Enter arg3 number:-\" ))\n",
    "print(\"First number is\", arg1)\n",
    "print(\"Second number is\", arg2)\n",
    "print(\"Third number is\", arg3)\n",
    "print(\"The biggest of three numbers is\", max(arg1, arg2, arg3))"
   ]
  },
  {
   "cell_type": "code",
   "execution_count": 38,
   "metadata": {},
   "outputs": [
    {
     "name": "stdout",
     "output_type": "stream",
     "text": [
      "current letter is C\n",
      "current letter is h\n",
      "current letter is e\n",
      "current letter is n\n",
      "current letter is n\n",
      "current letter is a\n",
      "current letter is i\n",
      "Sub string is enn\n",
      "Repeated string is ChennaiChennaiChennaiChennaiChennai\n",
      "Concatenated string is  ChennaiCity\n"
     ]
    }
   ],
   "source": [
    "str1 = \"Chennai\"\n",
    "str2 = \"City\"\n",
    "for i in str1:\n",
    "    print(\"current letter is\", i)\n",
    "str3 = str1[2:5]\n",
    "print(\"Sub string is\", str3)\n",
    "print(\"Repeated string is\", str1 * 5)\n",
    "print(\"Concatenated string is \", str1 + str2)\n"
   ]
  },
  {
   "cell_type": "code",
   "execution_count": 43,
   "metadata": {},
   "outputs": [
    {
     "name": "stdout",
     "output_type": "stream",
     "text": [
      "\n",
      " [23, 'Hello']\n",
      "\n",
      " [12, 23, 'Hello', 60.6, 'Chennai', 12, 23, 'Hello', 60.6, 'Chennai']\n",
      "\n",
      " [12, 23, 'Hello', 60.6, 'Chennai', 21, 32, 60]\n"
     ]
    }
   ],
   "source": [
    "List1 = [12, 23, 'Hello', 60.6, 'Chennai']\n",
    "List2 = [21, 32, 60]\n",
    "a = List1 [1:3] \n",
    "b = List1 * 2\n",
    "c = List1 + List2\n",
    "print(\"\\n\", a) \n",
    "print(\"\\n\", b)\n",
    "print(\"\\n\", c)\n"
   ]
  },
  {
   "cell_type": "code",
   "execution_count": 46,
   "metadata": {},
   "outputs": [
    {
     "name": "stdout",
     "output_type": "stream",
     "text": [
      "\n",
      " (23, 'Hello')\n",
      "\n",
      " (12, 23, 'Hello', 60.6, 'Chennai', 12, 23, 'Hello', 60.6, 'Chennai')\n",
      "\n",
      " (12, 23, 'Hello', 60.6, 'Chennai', 21, 32, 60)\n"
     ]
    }
   ],
   "source": [
    "Tuple1 = (12, 23, 'Hello', 60.6, 'Chennai')\n",
    "Tuple2 = (21, 32, 60)\n",
    "a = Tuple1[1:3] \n",
    "b = Tuple1 * 2\n",
    "c = Tuple1 + Tuple2\n",
    "print(\"\\n\", a) \n",
    "print(\"\\n\", b) \n",
    "print(\"\\n\", c)"
   ]
  },
  {
   "cell_type": "code",
   "execution_count": 49,
   "metadata": {},
   "outputs": [
    {
     "name": "stdout",
     "output_type": "stream",
     "text": [
      "\n",
      " Addition of two numbers is (4+6j)\n",
      "\n",
      " Subtraction of two numbers is (-2-2j)\n",
      "\n",
      " Multiplication of two numbers is (-5+10j)\n",
      "\n",
      " Division of two numbers is (0.44+0.08j)\n"
     ]
    }
   ],
   "source": [
    "arg = [1,2,3,4]\n",
    "a = complex(arg[0], arg[1])\n",
    "b = complex(arg[2], arg[3])\n",
    "c = a + b\n",
    "print(\"\\n Addition of two numbers is\", c)\n",
    "c = a - b\n",
    "print(\"\\n Subtraction of two numbers is\", c)\n",
    "c = a * b \n",
    "print(\"\\n Multiplication of two numbers is\", c)\n",
    "c = a / b \n",
    "print(\"\\n Division of two numbers is\", c)\n"
   ]
  },
  {
   "cell_type": "code",
   "execution_count": 53,
   "metadata": {},
   "outputs": [
    {
     "name": "stdout",
     "output_type": "stream",
     "text": [
      "\n",
      " Addition of two numbers is 15\n",
      "\n",
      " Subtraction of two numbers is 5\n",
      "\n",
      " Multiplication of two numbers is 50\n",
      "\n",
      " Division of two numbers is 5.0\n",
      "\n",
      " modulus of two numbers is 5.0\n",
      "\n",
      " Exponentiation of two numbers is 9765625.0\n",
      "\n",
      " Floor division of two numbers is 976562.0\n"
     ]
    }
   ],
   "source": [
    "arg = [5,10,15,20]\n",
    "arg[0] += arg[1]\n",
    "print(\"\\n Addition of two numbers is\", arg[0])\n",
    "arg[0] -= arg[1]\n",
    "print(\"\\n Subtraction of two numbers is\", arg[0])\n",
    "arg[0] *= arg[1] \n",
    "print(\"\\n Multiplication of two numbers is\", arg[0])\n",
    "arg[0] /= arg[1] \n",
    "print(\"\\n Division of two numbers is\", arg[0])\n",
    "arg[0] %= arg[1]\n",
    "print(\"\\n modulus of two numbers is\", arg[0])\n",
    "arg[0] **= arg[1]\n",
    "print(\"\\n Exponentiation of two numbers is\", arg[0])\n",
    "arg[0] //= arg[1]\n",
    "print(\"\\n Floor division of two numbers is\", arg[0])\n"
   ]
  },
  {
   "cell_type": "code",
   "execution_count": 54,
   "metadata": {},
   "outputs": [
    {
     "name": "stdout",
     "output_type": "stream",
     "text": [
      "10\n",
      "976562.0\n",
      "False\n"
     ]
    }
   ],
   "source": [
    "a = arg[0] and arg[1]\n",
    "b = arg[0] or arg[1]\n",
    "c = not(arg[0] and arg[1])\n",
    "print(a)\n",
    "print(b)\n",
    "print(c)\n"
   ]
  }
 ],
 "metadata": {
  "kernelspec": {
   "display_name": "Python 3",
   "language": "python",
   "name": "python3"
  }
 },
 "nbformat": 4,
 "nbformat_minor": 2
}
